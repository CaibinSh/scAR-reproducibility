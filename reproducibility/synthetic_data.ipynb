{
 "cells": [
  {
   "cell_type": "markdown",
   "id": "ac5906d1-7f3a-4661-8235-8bca20ec9c45",
   "metadata": {},
   "source": [
    "## Generate a small set of synthetic data for testing"
   ]
  },
  {
   "cell_type": "code",
   "execution_count": null,
   "id": "aa6514e7-19b3-4b91-9f6f-e2ad125bf9d7",
   "metadata": {},
   "outputs": [],
   "source": [
    "import torch\n",
    "import scAR\n",
    "import numpy as np"
   ]
  },
  {
   "cell_type": "code",
   "execution_count": null,
   "id": "873faabd-5fd1-4eab-b728-c385846eb526",
   "metadata": {},
   "outputs": [],
   "source": [
    "n_fbs = 5\n",
    "n_samples = 20\n",
    "n_celltypes = 2"
   ]
  },
  {
   "cell_type": "code",
   "execution_count": null,
   "id": "ddd034f6-d747-4884-85f3-2e2e9bf9979a",
   "metadata": {},
   "outputs": [],
   "source": [
    "syn_data = scAR.DataSimulator.CITEseq(n_samples, n_celltypes, n_fbs)\n",
    "syn_data.generate()\n",
    "syn_data.heatmap()"
   ]
  },
  {
   "cell_type": "code",
   "execution_count": null,
   "id": "a0a64cf5-7889-47d5-95b8-91d1eeb4dfc4",
   "metadata": {},
   "outputs": [],
   "source": [
    "# We can get the input raw count matrix by calling:\n",
    "# syn_data.obs_count\n",
    "\n",
    "syn_data.obs_count"
   ]
  },
  {
   "cell_type": "code",
   "execution_count": null,
   "id": "5c8bc807-1c25-4759-bcf8-b879b5c3e9ca",
   "metadata": {},
   "outputs": [],
   "source": [
    "# We can get the input ambient profile by calling:\n",
    "# syn_data.obs_count\n",
    "\n",
    "syn_data.ambient_profile"
   ]
  },
  {
   "cell_type": "code",
   "execution_count": null,
   "id": "f4b17405-7639-4f96-8ad4-54ba7865a4a2",
   "metadata": {},
   "outputs": [],
   "source": [
    "# Generate relevant tensor using following codes:\n",
    "\n",
    "X = torch.tensor(syn_data.obs_count)\n",
    "\n",
    "X"
   ]
  }
 ],
 "metadata": {
  "kernelspec": {
   "display_name": "general",
   "language": "python",
   "name": "general"
  },
  "language_info": {
   "codemirror_mode": {
    "name": "ipython",
    "version": 3
   },
   "file_extension": ".py",
   "mimetype": "text/x-python",
   "name": "python",
   "nbconvert_exporter": "python",
   "pygments_lexer": "ipython3",
   "version": "3.8.8"
  }
 },
 "nbformat": 4,
 "nbformat_minor": 5
}
