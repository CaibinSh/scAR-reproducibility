{
 "cells": [
  {
   "cell_type": "markdown",
   "id": "ac5906d1-7f3a-4661-8235-8bca20ec9c45",
   "metadata": {},
   "source": [
    "## Generate a small set of synthetic data for testing"
   ]
  },
  {
   "cell_type": "code",
   "execution_count": 1,
   "id": "aa6514e7-19b3-4b91-9f6f-e2ad125bf9d7",
   "metadata": {},
   "outputs": [],
   "source": [
    "import torch\n",
    "import scAR\n",
    "import numpy as np"
   ]
  },
  {
   "cell_type": "code",
   "execution_count": 2,
   "id": "873faabd-5fd1-4eab-b728-c385846eb526",
   "metadata": {},
   "outputs": [],
   "source": [
    "n_fbs = 5\n",
    "n_samples = 20\n",
    "n_celltypes = 2"
   ]
  },
  {
   "cell_type": "code",
   "execution_count": 3,
   "id": "ddd034f6-d747-4884-85f3-2e2e9bf9979a",
   "metadata": {},
   "outputs": [
    {
     "data": {
      "image/png": "[encoded data removed]",
      "text/plain": [
       "<Figure size 1080x360 with 6 Axes>"
      ]
     },
     "metadata": {
      "needs_background": "light"
     },
     "output_type": "display_data"
    }
   ],
   "source": [
    "syn_data = scAR.DataSimulator.CITEseq(n_samples, n_celltypes, n_fbs)\n",
    "syn_data.generate()\n",
    "syn_data.heatmap()"
   ]
  },
  {
   "cell_type": "code",
   "execution_count": 4,
   "id": "a0a64cf5-7889-47d5-95b8-91d1eeb4dfc4",
   "metadata": {},
   "outputs": [
    {
     "data": {
      "text/plain": [
       "array([[ 419,  285,  115,  675, 1381],\n",
       "       [ 426,  289,  127,  647, 1376],\n",
       "       [ 435,  292,  112,  640, 1361],\n",
       "       [ 426,  305,  124,   96, 1795],\n",
       "       [ 440,  304,  148,   97, 1664],\n",
       "       [ 424,  296,  132,  624, 1384],\n",
       "       [ 441,  276,  138,  595, 1343],\n",
       "       [ 429,  284,  135,   71, 1735],\n",
       "       [ 436,  279,  119,  620, 1409],\n",
       "       [ 417,  266,  121,  632, 1359],\n",
       "       [ 390,  277,  136,   70, 1788],\n",
       "       [ 413,  297,  142,  658, 1402],\n",
       "       [ 417,  245,  156,   87, 1736],\n",
       "       [ 416,  272,  144,  667, 1371],\n",
       "       [ 429,  269,  128,  658, 1363],\n",
       "       [ 357,  294,  143,  115, 1763],\n",
       "       [ 406,  275,  127,  606, 1361],\n",
       "       [ 362,  257,  142,   74, 1672],\n",
       "       [ 394,  285,  136,  677, 1404],\n",
       "       [ 391,  300,  147,  600, 1402]])"
      ]
     },
     "execution_count": 4,
     "metadata": {},
     "output_type": "execute_result"
    }
   ],
   "source": [
    "# We can get the input raw count matrix by calling:\n",
    "# syn_data.obs_count\n",
    "\n",
    "syn_data.obs_count"
   ]
  },
  {
   "cell_type": "code",
   "execution_count": 5,
   "id": "5c8bc807-1c25-4759-bcf8-b879b5c3e9ca",
   "metadata": {},
   "outputs": [
    {
     "data": {
      "text/plain": [
       "array([0.39585354, 0.32860267, 0.1506214 , 0.09122687, 0.03369551])"
      ]
     },
     "execution_count": 5,
     "metadata": {},
     "output_type": "execute_result"
    }
   ],
   "source": [
    "# We can get the input ambient profile by calling:\n",
    "# syn_data.obs_count\n",
    "\n",
    "syn_data.ambient_profile"
   ]
  },
  {
   "cell_type": "code",
   "execution_count": 6,
   "id": "f4b17405-7639-4f96-8ad4-54ba7865a4a2",
   "metadata": {},
   "outputs": [
    {
     "data": {
      "text/plain": [
       "tensor([[ 419,  285,  115,  675, 1381],\n",
       "        [ 426,  289,  127,  647, 1376],\n",
       "        [ 435,  292,  112,  640, 1361],\n",
       "        [ 426,  305,  124,   96, 1795],\n",
       "        [ 440,  304,  148,   97, 1664],\n",
       "        [ 424,  296,  132,  624, 1384],\n",
       "        [ 441,  276,  138,  595, 1343],\n",
       "        [ 429,  284,  135,   71, 1735],\n",
       "        [ 436,  279,  119,  620, 1409],\n",
       "        [ 417,  266,  121,  632, 1359],\n",
       "        [ 390,  277,  136,   70, 1788],\n",
       "        [ 413,  297,  142,  658, 1402],\n",
       "        [ 417,  245,  156,   87, 1736],\n",
       "        [ 416,  272,  144,  667, 1371],\n",
       "        [ 429,  269,  128,  658, 1363],\n",
       "        [ 357,  294,  143,  115, 1763],\n",
       "        [ 406,  275,  127,  606, 1361],\n",
       "        [ 362,  257,  142,   74, 1672],\n",
       "        [ 394,  285,  136,  677, 1404],\n",
       "        [ 391,  300,  147,  600, 1402]])"
      ]
     },
     "execution_count": 6,
     "metadata": {},
     "output_type": "execute_result"
    }
   ],
   "source": [
    "# Generate relevant tensor using following codes:\n",
    "\n",
    "X = torch.tensor(syn_data.obs_count)\n",
    "\n",
    "X"
   ]
  }
 ],
 "metadata": {
  "kernelspec": {
   "display_name": "general",
   "language": "python",
   "name": "general"
  },
  "language_info": {
   "codemirror_mode": {
    "name": "ipython",
    "version": 3
   },
   "file_extension": ".py",
   "mimetype": "text/x-python",
   "name": "python",
   "nbconvert_exporter": "python",
   "pygments_lexer": "ipython3",
   "version": "3.8.8"
  }
 },
 "nbformat": 4,
 "nbformat_minor": 5
}
