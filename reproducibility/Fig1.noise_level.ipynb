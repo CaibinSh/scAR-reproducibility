{
 "cells": [
  {
   "cell_type": "markdown",
   "id": "449a3417-2bc9-48a4-bee9-e2d93d08c26e",
   "metadata": {},
   "source": [
    "### This notebook is used to generate Figure1 and Figure S1"
   ]
  },
  {
   "cell_type": "markdown",
   "id": "e01e99aa-d481-4d6f-a9b1-94716e704334",
   "metadata": {},
   "source": [
    "#### Figure 1A. Contamination rate in feature-barcoded techniques"
   ]
  },
  {
   "cell_type": "code",
   "execution_count": 1,
   "id": "7d94f794-91cc-4a5f-a6e3-8ae06a40a004",
   "metadata": {},
   "outputs": [],
   "source": [
    "import os\n",
    "import pandas as pd\n",
    "import seaborn as sns\n",
    "from natsort import natsorted\n",
    "import matplotlib.pyplot as plt\n",
    "from matplotlib import pylab\n",
    "import numpy as np\n",
    "from scipy import stats\n",
    "from scipy.stats import pearsonr\n",
    "import statsmodels.api as sm\n",
    "import glob, re\n",
    "import anndata as ad\n",
    "import scanpy as sc"
   ]
  },
  {
   "cell_type": "markdown",
   "id": "21215f83-754c-4897-94a4-8d6745c35718",
   "metadata": {},
   "source": [
    "### Plot setting"
   ]
  },
  {
   "cell_type": "code",
   "execution_count": 2,
   "id": "ce2d9768-05e1-481f-bfcb-1f44ce28b112",
   "metadata": {},
   "outputs": [],
   "source": [
    "#publication quality plots\n",
    "from matplotlib import pylab\n",
    "\n",
    "params = {'legend.fontsize': 8,\n",
    "          'figure.facecolor':\"w\",\n",
    "          'figure.figsize': (4, 3),\n",
    "         'axes.labelsize': 10,\n",
    "         'axes.titlesize':10,\n",
    "         'axes.linewidth': 0.5, \n",
    "         'xtick.labelsize':8,\n",
    "         'ytick.labelsize':8,\n",
    "         'pdf.fonttype': 42,\n",
    "         'figure.autolayout': True,\n",
    "         'axes.grid':False,\n",
    "         \"figure.dpi\":150}\n",
    "\n",
    "# Set the global font to be DejaVu Sans, size 10 (or any other sans-serif font of your choice!)\n",
    "pylab.rc('font',**{'family':'sans-serif','sans-serif':['DejaVu Sans'],'size':10});\n",
    "\n",
    "# Set the font used for MathJax - more on this later\n",
    "pylab.rc('mathtext',**{'default':'regular'});\n",
    "\n",
    "pylab.rcParams.update(params);\n",
    "\n",
    "sns.set_palette(\"muted\");\n",
    "sns.set_style(\"ticks\");\n",
    "sns.despine(offset=10, trim=True);\n",
    "\n",
    "# %matplotlib inline"
   ]
  },
  {
   "cell_type": "code",
   "execution_count": 3,
   "id": "18482b2a-e7fb-4290-86f6-ecca43f77adb",
   "metadata": {},
   "outputs": [],
   "source": [
    "metadata = pd.read_csv('/da/ONC/BFx/research/shengca1/bioinfo_pipeline/manuscript/analysis/metadata.csv', index_col=0)"
   ]
  },
  {
   "cell_type": "code",
   "execution_count": 4,
   "id": "39aec6d3-bf4a-4a79-9601-a5b6087535c1",
   "metadata": {},
   "outputs": [],
   "source": [
    "def get_total_counts(adata_obj, n_droplets=None):\n",
    "    \n",
    "    if n_droplets is None:\n",
    "        mRNA = adata_obj[:, ~adata_obj.var['gene_ids'].str.contains('_')]   # only mRNA\n",
    "        total_mRNA = mRNA.to_df().sum(axis=1).to_frame('mRNA')\n",
    "        fb = adata_obj[:, (adata_obj.var['gene_ids'].str.contains('_')) & (~adata_obj.var['gene_ids'].str.contains('Cas9'))]   # only sgRNA, Cas9 construct excluded\n",
    "        total_fb = fb.to_df().sum(axis=1).to_frame('feature_barcode')\n",
    "    else:\n",
    "        mRNA = adata_obj[:, ~adata_obj.var['gene_ids'].str.contains('_')]   # only mRNA\n",
    "        sc.pp.calculate_qc_metrics(mRNA, inplace=True)\n",
    "        # take only top n droplets to speed the computation\n",
    "        mRNA = mRNA[mRNA.obs['total_counts'].nlargest(n_droplets).index]\n",
    "        total_mRNA = mRNA.to_df().sum(axis=1).to_frame('mRNA')\n",
    "        \n",
    "        fb = adata_obj[:, (adata_obj.var['gene_ids'].str.contains('_')) & (~adata_obj.var['gene_ids'].str.contains('Cas9'))]   # only sgRNA, Cas9 construct excluded\n",
    "        \n",
    "        \n",
    "#         [total_mRNA.index]\n",
    "        total_fb = fb.to_df().sum(axis=1).to_frame('feature_barcode')\n",
    "    \n",
    "    return total_mRNA.join(total_fb, how='left').sort_values('mRNA')"
   ]
  },
  {
   "cell_type": "code",
   "execution_count": 51,
   "id": "db3ca515-5341-4caa-9168-b44d50369d2b",
   "metadata": {},
   "outputs": [],
   "source": [
    "def split(adata_obj, nlargest=None):\n",
    "    \n",
    "    mRNA = adata_obj[:, ~adata_obj.var['gene_ids'].str.contains('_')]   # only mRNA\n",
    "    fb = adata_obj[:, (adata_obj.var['gene_ids'].str.contains('_')) & (~adata_obj.var['gene_ids'].str.contains('Cas9'))]   # only sgRNA, Cas9 construct excluded\n",
    "    if nlargest is not None:\n",
    "        sc.pp.calculate_qc_metrics(mRNA, inplace=True)\n",
    "        mRNA = mRNA[mRNA.obs['total_counts'].nlargest(nlargest).index]\n",
    "        fb = fb[fb.to_df().sum(axis=1).nlargest(nlargest).index]\n",
    "        \n",
    "    return mRNA, fb"
   ]
  },
  {
   "cell_type": "code",
   "execution_count": 6,
   "id": "e9825547-540e-4650-9ced-596a0d97dfad",
   "metadata": {},
   "outputs": [
    {
     "data": {
      "text/html": [
       "<div>\n",
       "<style scoped>\n",
       "    .dataframe tbody tr th:only-of-type {\n",
       "        vertical-align: middle;\n",
       "    }\n",
       "\n",
       "    .dataframe tbody tr th {\n",
       "        vertical-align: top;\n",
       "    }\n",
       "\n",
       "    .dataframe thead th {\n",
       "        text-align: right;\n",
       "    }\n",
       "</style>\n",
       "<table border=\"1\" class=\"dataframe\">\n",
       "  <thead>\n",
       "    <tr style=\"text-align: right;\">\n",
       "      <th></th>\n",
       "      <th>cell_type</th>\n",
       "      <th>condition1</th>\n",
       "      <th>condition2</th>\n",
       "      <th>grna_library</th>\n",
       "      <th>grna_enrPCR</th>\n",
       "      <th>sample</th>\n",
       "      <th>sgrna_kallisto</th>\n",
       "      <th>sgrna_fullalign</th>\n",
       "      <th>path_cellranger</th>\n",
       "      <th>path_kallisto</th>\n",
       "      <th>path_kallisto_sgRNA</th>\n",
       "    </tr>\n",
       "    <tr>\n",
       "      <th>sample_name</th>\n",
       "      <th></th>\n",
       "      <th></th>\n",
       "      <th></th>\n",
       "      <th></th>\n",
       "      <th></th>\n",
       "      <th></th>\n",
       "      <th></th>\n",
       "      <th></th>\n",
       "      <th></th>\n",
       "      <th></th>\n",
       "      <th></th>\n",
       "    </tr>\n",
       "  </thead>\n",
       "  <tbody>\n",
       "    <tr>\n",
       "      <th>OE-41-LX17</th>\n",
       "      <td>MCF7</td>\n",
       "      <td>D5</td>\n",
       "      <td>R1</td>\n",
       "      <td>CROP-seq_pilot</td>\n",
       "      <td>OE-41-LX17</td>\n",
       "      <td>D5_R1</td>\n",
       "      <td>/da/onc/bfx/research/shengca1/bioinfo_pipeline...</td>\n",
       "      <td>/da/onc/bfx/research/shengca1/bioinfo_pipeline...</td>\n",
       "      <td>/da/onc/bfx/research/shengca1/bioinfo_pipeline...</td>\n",
       "      <td>/da/onc/bfx/research/shengca1/bioinfo_pipeline...</td>\n",
       "      <td>/da/onc/bfx/research/shengca1/bioinfo_pipeline...</td>\n",
       "    </tr>\n",
       "    <tr>\n",
       "      <th>KE-42-LB17</th>\n",
       "      <td>MCF7</td>\n",
       "      <td>D5</td>\n",
       "      <td>R2</td>\n",
       "      <td>CROP-seq_pilot</td>\n",
       "      <td>KE-42-LB17</td>\n",
       "      <td>D5_R2</td>\n",
       "      <td>/da/onc/bfx/research/shengca1/bioinfo_pipeline...</td>\n",
       "      <td>/da/onc/bfx/research/shengca1/bioinfo_pipeline...</td>\n",
       "      <td>/da/onc/bfx/research/shengca1/bioinfo_pipeline...</td>\n",
       "      <td>/da/onc/bfx/research/shengca1/bioinfo_pipeline...</td>\n",
       "      <td>/da/onc/bfx/research/shengca1/bioinfo_pipeline...</td>\n",
       "    </tr>\n",
       "    <tr>\n",
       "      <th>SF-40-AP15</th>\n",
       "      <td>MCF7</td>\n",
       "      <td>D12</td>\n",
       "      <td>R1</td>\n",
       "      <td>CROP-seq_pilot</td>\n",
       "      <td>SF-40-AP15</td>\n",
       "      <td>D12_R1</td>\n",
       "      <td>/da/onc/bfx/research/shengca1/bioinfo_pipeline...</td>\n",
       "      <td>/da/onc/bfx/research/shengca1/bioinfo_pipeline...</td>\n",
       "      <td>/da/onc/bfx/research/shengca1/bioinfo_pipeline...</td>\n",
       "      <td>/da/onc/bfx/research/shengca1/bioinfo_pipeline...</td>\n",
       "      <td>/da/onc/bfx/research/shengca1/bioinfo_pipeline...</td>\n",
       "    </tr>\n",
       "    <tr>\n",
       "      <th>OF-40-AT15</th>\n",
       "      <td>MCF7</td>\n",
       "      <td>D12</td>\n",
       "      <td>R2</td>\n",
       "      <td>CROP-seq_pilot</td>\n",
       "      <td>OF-40-AT15</td>\n",
       "      <td>D12_R2</td>\n",
       "      <td>/da/onc/bfx/research/shengca1/bioinfo_pipeline...</td>\n",
       "      <td>/da/onc/bfx/research/shengca1/bioinfo_pipeline...</td>\n",
       "      <td>/da/onc/bfx/research/shengca1/bioinfo_pipeline...</td>\n",
       "      <td>/da/onc/bfx/research/shengca1/bioinfo_pipeline...</td>\n",
       "      <td>/da/onc/bfx/research/shengca1/bioinfo_pipeline...</td>\n",
       "    </tr>\n",
       "    <tr>\n",
       "      <th>KF-40-AX15</th>\n",
       "      <td>MCF7</td>\n",
       "      <td>D12</td>\n",
       "      <td>R3</td>\n",
       "      <td>CROP-seq_pilot</td>\n",
       "      <td>KF-40-AX15</td>\n",
       "      <td>D12_R3</td>\n",
       "      <td>/da/onc/bfx/research/shengca1/bioinfo_pipeline...</td>\n",
       "      <td>/da/onc/bfx/research/shengca1/bioinfo_pipeline...</td>\n",
       "      <td>/da/onc/bfx/research/shengca1/bioinfo_pipeline...</td>\n",
       "      <td>/da/onc/bfx/research/shengca1/bioinfo_pipeline...</td>\n",
       "      <td>/da/onc/bfx/research/shengca1/bioinfo_pipeline...</td>\n",
       "    </tr>\n",
       "  </tbody>\n",
       "</table>\n",
       "</div>"
      ],
      "text/plain": [
       "            cell_type condition1 condition2    grna_library grna_enrPCR  \\\n",
       "sample_name                                                               \n",
       "OE-41-LX17       MCF7         D5         R1  CROP-seq_pilot  OE-41-LX17   \n",
       "KE-42-LB17       MCF7         D5         R2  CROP-seq_pilot  KE-42-LB17   \n",
       "SF-40-AP15       MCF7        D12         R1  CROP-seq_pilot  SF-40-AP15   \n",
       "OF-40-AT15       MCF7        D12         R2  CROP-seq_pilot  OF-40-AT15   \n",
       "KF-40-AX15       MCF7        D12         R3  CROP-seq_pilot  KF-40-AX15   \n",
       "\n",
       "             sample                                     sgrna_kallisto  \\\n",
       "sample_name                                                              \n",
       "OE-41-LX17    D5_R1  /da/onc/bfx/research/shengca1/bioinfo_pipeline...   \n",
       "KE-42-LB17    D5_R2  /da/onc/bfx/research/shengca1/bioinfo_pipeline...   \n",
       "SF-40-AP15   D12_R1  /da/onc/bfx/research/shengca1/bioinfo_pipeline...   \n",
       "OF-40-AT15   D12_R2  /da/onc/bfx/research/shengca1/bioinfo_pipeline...   \n",
       "KF-40-AX15   D12_R3  /da/onc/bfx/research/shengca1/bioinfo_pipeline...   \n",
       "\n",
       "                                               sgrna_fullalign  \\\n",
       "sample_name                                                      \n",
       "OE-41-LX17   /da/onc/bfx/research/shengca1/bioinfo_pipeline...   \n",
       "KE-42-LB17   /da/onc/bfx/research/shengca1/bioinfo_pipeline...   \n",
       "SF-40-AP15   /da/onc/bfx/research/shengca1/bioinfo_pipeline...   \n",
       "OF-40-AT15   /da/onc/bfx/research/shengca1/bioinfo_pipeline...   \n",
       "KF-40-AX15   /da/onc/bfx/research/shengca1/bioinfo_pipeline...   \n",
       "\n",
       "                                               path_cellranger  \\\n",
       "sample_name                                                      \n",
       "OE-41-LX17   /da/onc/bfx/research/shengca1/bioinfo_pipeline...   \n",
       "KE-42-LB17   /da/onc/bfx/research/shengca1/bioinfo_pipeline...   \n",
       "SF-40-AP15   /da/onc/bfx/research/shengca1/bioinfo_pipeline...   \n",
       "OF-40-AT15   /da/onc/bfx/research/shengca1/bioinfo_pipeline...   \n",
       "KF-40-AX15   /da/onc/bfx/research/shengca1/bioinfo_pipeline...   \n",
       "\n",
       "                                                 path_kallisto  \\\n",
       "sample_name                                                      \n",
       "OE-41-LX17   /da/onc/bfx/research/shengca1/bioinfo_pipeline...   \n",
       "KE-42-LB17   /da/onc/bfx/research/shengca1/bioinfo_pipeline...   \n",
       "SF-40-AP15   /da/onc/bfx/research/shengca1/bioinfo_pipeline...   \n",
       "OF-40-AT15   /da/onc/bfx/research/shengca1/bioinfo_pipeline...   \n",
       "KF-40-AX15   /da/onc/bfx/research/shengca1/bioinfo_pipeline...   \n",
       "\n",
       "                                           path_kallisto_sgRNA  \n",
       "sample_name                                                     \n",
       "OE-41-LX17   /da/onc/bfx/research/shengca1/bioinfo_pipeline...  \n",
       "KE-42-LB17   /da/onc/bfx/research/shengca1/bioinfo_pipeline...  \n",
       "SF-40-AP15   /da/onc/bfx/research/shengca1/bioinfo_pipeline...  \n",
       "OF-40-AT15   /da/onc/bfx/research/shengca1/bioinfo_pipeline...  \n",
       "KF-40-AX15   /da/onc/bfx/research/shengca1/bioinfo_pipeline...  "
      ]
     },
     "execution_count": 6,
     "metadata": {},
     "output_type": "execute_result"
    }
   ],
   "source": [
    "metadata"
   ]
  },
  {
   "cell_type": "markdown",
   "id": "1b1cf2db-8bad-4758-b2ca-a82aa8e73f76",
   "metadata": {},
   "source": [
    "## Knee plot showing the total droplets"
   ]
  },
  {
   "cell_type": "code",
   "execution_count": 7,
   "id": "fe73dbc0-d3b7-4aff-a566-3a40988bbc0e",
   "metadata": {},
   "outputs": [],
   "source": [
    "sample = 'KE-42-LB17'\n",
    "cellranger_outs = f'/da/onc/BFx/research/shengca1/bioinfo_pipeline/intra_cropseq/Second/final/cellranger_count/{sample}/outs/'\n",
    "filtered_adata=sc.read_10x_mtx(cellranger_outs + '/filtered_feature_bc_matrix')\n",
    "raw_adata=sc.read_10x_mtx(cellranger_outs + '/raw_feature_bc_matrix')"
   ]
  },
  {
   "cell_type": "code",
   "execution_count": 8,
   "id": "00028a87-75a7-4676-9002-a2264526fbed",
   "metadata": {},
   "outputs": [
    {
     "name": "stderr",
     "output_type": "stream",
     "text": [
      "Trying to set attribute `.obs` of view, copying.\n"
     ]
    }
   ],
   "source": [
    "mRNA_r, fb_r = split(raw_adata)\n",
    "sc.pp.calculate_qc_metrics(mRNA_r, inplace=True)\n",
    "\n",
    "rank_UMIs = mRNA_r.obs[\"total_counts\"].to_frame('mRNA')\n",
    "rank_UMIs = rank_UMIs.sort_values(by='mRNA', ascending=False).reset_index().rename_axis(\"rank\").reset_index()\n",
    "rank_UMIs_f = fb_r.to_df().sum(axis=1).to_frame('sgRNA').sort_values(by='sgRNA', ascending=False).reset_index().rename_axis(\"rank\").reset_index()\n",
    "rank_UMIs = rank_UMIs_f.join(rank_UMIs, lsuffix='fb_')\n",
    "rank_UMIs = rank_UMIs[['sgRNA', 'mRNA']].stack().to_frame('total counts').rename_axis(['rank', 'counts']).reset_index()"
   ]
  },
  {
   "cell_type": "code",
   "execution_count": 9,
   "id": "efb9651b-509a-401d-bff3-f42f9e6be5ca",
   "metadata": {},
   "outputs": [],
   "source": [
    "n_cells = filtered_adata.shape[0]"
   ]
  },
  {
   "cell_type": "code",
   "execution_count": 40,
   "id": "9cef34ca-c172-418e-9990-587a61f657cd",
   "metadata": {},
   "outputs": [
    {
     "name": "stderr",
     "output_type": "stream",
     "text": [
      "<ipython-input-40-ed0b316e0cb5>:23: MatplotlibDeprecationWarning: savefig() got unexpected keyword argument \"doi\" which is no longer supported as of 3.3 and will become an error two minor releases later\n",
      "  fig.savefig('/da/onc/bfx/research/shengca1/pipeline/obfx-fbdenoiser/manuscript/figures/kneeplot_mRNA_sgRNA_counts.pdf', doi=200)\n"
     ]
    },
    {
     "data": {
      "image/png": "[encoded data removed]",
      "text/plain": [
       "<Figure size 600x450 with 1 Axes>"
      ]
     },
     "metadata": {},
     "output_type": "display_data"
    }
   ],
   "source": [
    "fig = plt.figure(figsize=(4,3))\n",
    "\n",
    "ax = sns.lineplot(data = rank_UMIs,\n",
    "             x='rank',\n",
    "             y='total counts',\n",
    "             hue='counts',\n",
    "             markers=False,\n",
    "             lw=2)\n",
    "\n",
    "ax.fill_betweenx(y=[0,2e5], x1=n_cells, x2=2*n_cells, color='lightblue')\n",
    "ax.text(1e2, 1e4, f'{n_cells} cells', fontsize=7);\n",
    "ax.text(3*n_cells/2, 1e3, f'{n_cells} empty\\ndroplets', alpha=0.75, fontsize=7);\n",
    "ax.set_xscale('log')\n",
    "ax.set_yscale('log')\n",
    "ax.set_xlabel('sorted droplet')\n",
    "ax.legend(loc='upper right', ncol=1, title=None, frameon=False)\n",
    "ax.set_title('kneeplot of D5_R2')\n",
    "\n",
    "sns.set_palette(\"muted\")\n",
    "sns.set_style(\"ticks\")\n",
    "sns.despine(offset=10, trim=False);\n",
    "\n",
    "fig.savefig('/da/onc/bfx/research/shengca1/pipeline/obfx-fbdenoiser/manuscript/figures/kneeplot_mRNA_sgRNA_counts.pdf', doi=200)\n",
    "plt.show()"
   ]
  },
  {
   "cell_type": "markdown",
   "id": "c882f3b1-caae-42d0-9f5f-a527036291a6",
   "metadata": {},
   "source": [
    "## systematically check noise level"
   ]
  },
  {
   "cell_type": "code",
   "execution_count": 59,
   "id": "85f65540-d152-4a99-8514-bba54f6c067f",
   "metadata": {},
   "outputs": [
    {
     "name": "stderr",
     "output_type": "stream",
     "text": [
      "Trying to set attribute `.obs` of view, copying.\n",
      "Trying to set attribute `.obs` of view, copying.\n",
      "Trying to set attribute `.obs` of view, copying.\n",
      "Trying to set attribute `.obs` of view, copying.\n",
      "Trying to set attribute `.obs` of view, copying.\n"
     ]
    },
    {
     "name": "stdout",
     "output_type": "stream",
     "text": [
      "CPU times: user 17min 2s, sys: 15.6 s, total: 17min 18s\n",
      "Wall time: 7min 39s\n"
     ]
    }
   ],
   "source": [
    "%%time\n",
    "noise_rate_df = pd.DataFrame(columns=['mRNA noise ratio',  'fb noise ratio'], index=metadata.index.unique())\n",
    "for sample in metadata.index.unique():\n",
    "    cellranger_outs = f'/da/onc/BFx/research/shengca1/bioinfo_pipeline/intra_cropseq/Second/final/cellranger_count/{sample}/outs/'\n",
    "    filtered_adata=sc.read_10x_mtx(cellranger_outs + '/filtered_feature_bc_matrix')\n",
    "    raw_adata=sc.read_10x_mtx(cellranger_outs + '/raw_feature_bc_matrix')\n",
    "    \n",
    "    barcodes_real_cells = filtered_adata.obs_names\n",
    "    n_cells = barcodes_real_cells.shape[0]\n",
    "    empty_droplets = raw_adata[~raw_adata.obs_names.isin(barcodes_real_cells)]\n",
    "    \n",
    "    mRNA_filtered, fb_filtered = split(filtered_adata)\n",
    "    mRNA_emp, fb_emp = split(empty_droplets, nlargest=n_cells)\n",
    "\n",
    "    noise_rate_df.loc[sample, 'mRNA noise ratio'] = mRNA_emp.X.sum() / mRNA_filtered.X.sum()\n",
    "    noise_rate_df.loc[sample, 'fb noise ratio'] = fb_emp.X.sum() / fb_filtered.X.sum()"
   ]
  },
  {
   "cell_type": "code",
   "execution_count": 63,
   "id": "6f9a4056-5f29-4cd8-bd9f-c58e37e94a55",
   "metadata": {},
   "outputs": [],
   "source": [
    "noise_rate_df['scRNAseq_tech'] = 'CROPseq 10xV2'"
   ]
  },
  {
   "cell_type": "code",
   "execution_count": 134,
   "id": "f12bb871-e7ef-4d7b-a75c-75ac15231581",
   "metadata": {},
   "outputs": [],
   "source": [
    "PBMC10k_filtered = sc.read_10x_mtx('/da/onc/bfx/research/shengca1/public_data/10xgenomics/PBMC10k/filtered_feature_bc_matrix/')\n",
    "PBMC10k_raw = sc.read_10x_mtx('/da/onc/bfx/research/shengca1/public_data/10xgenomics/PBMC10k/raw_feature_bc_matrix/')\n",
    "cb_droplets = PBMC10k_filtered.obs_names\n",
    "PBMC10k_empties = PBMC10k_raw[~PBMC10k_raw.obs_names.isin(cb_droplets)]\n",
    "sc.pp.calculate_qc_metrics(PBMC10k_empties, inplace=True)\n",
    "\n",
    "# Consider only largest cb_droplets.shape[0] droplets\n",
    "PBMC10k_empties = PBMC10k_empties[PBMC10k_empties.obs['total_counts'].nlargest(len(cb_droplets)).index]\n",
    "\n",
    "mRNA_nr = PBMC10k_empties.X.sum()/PBMC10k_filtered.X.sum()\n",
    "\n",
    "PBMC10k_f_filtered = sc.read_10x_mtx('/da/onc/bfx/research/shengca1/public_data/10xgenomics/PBMC10k/filtered_f_feature_bc_matrix/', gex_only=False)\n",
    "PBMC10k_f_raw = sc.read_10x_mtx('/da/onc/bfx/research/shengca1/public_data/10xgenomics/PBMC10k/raw_f_feature_bc_matrix/', gex_only=False)\n",
    "cb_f_droplets = PBMC10k_f_filtered.obs_names\n",
    "\n",
    "# Consider only largest cb_f_droplets.shape[0] droplets\n",
    "PBMC10k_f_empties = PBMC10k_f_raw[~PBMC10k_f_raw.obs_names.isin(cb_f_droplets)]\n",
    "fb_nr = PBMC10k_f_empties.to_df().sum(axis=1).nlargest(PBMC10k_f_filtered.shape[0]).sum()/PBMC10k_f_filtered.X.sum()\n",
    "\n",
    "PBMC10k_nr = pd.DataFrame([[mRNA_nr, fb_nr, 'CITEseq 10xV2']], index=['10xPBMC10k'], columns=noise_rate_df.columns)"
   ]
  },
  {
   "cell_type": "code",
   "execution_count": 135,
   "id": "9c3b241d-46ee-4ec0-b897-dd9e6dc58489",
   "metadata": {},
   "outputs": [],
   "source": [
    "noise_rate_df = noise_rate_df.append(PBMC10k_nr)"
   ]
  },
  {
   "cell_type": "code",
   "execution_count": 136,
   "id": "3e42f341-4721-444f-9d00-f67eddd3dc88",
   "metadata": {},
   "outputs": [
    {
     "data": {
      "text/html": [
       "<div>\n",
       "<style scoped>\n",
       "    .dataframe tbody tr th:only-of-type {\n",
       "        vertical-align: middle;\n",
       "    }\n",
       "\n",
       "    .dataframe tbody tr th {\n",
       "        vertical-align: top;\n",
       "    }\n",
       "\n",
       "    .dataframe thead th {\n",
       "        text-align: right;\n",
       "    }\n",
       "</style>\n",
       "<table border=\"1\" class=\"dataframe\">\n",
       "  <thead>\n",
       "    <tr style=\"text-align: right;\">\n",
       "      <th></th>\n",
       "      <th>mRNA noise ratio</th>\n",
       "      <th>fb noise ratio</th>\n",
       "      <th>scRNAseq_tech</th>\n",
       "    </tr>\n",
       "  </thead>\n",
       "  <tbody>\n",
       "    <tr>\n",
       "      <th>OE-41-LX17</th>\n",
       "      <td>0.0187747</td>\n",
       "      <td>0.424697</td>\n",
       "      <td>CROPseq 10xV2</td>\n",
       "    </tr>\n",
       "    <tr>\n",
       "      <th>KE-42-LB17</th>\n",
       "      <td>0.0425434</td>\n",
       "      <td>0.484297</td>\n",
       "      <td>CROPseq 10xV2</td>\n",
       "    </tr>\n",
       "    <tr>\n",
       "      <th>SF-40-AP15</th>\n",
       "      <td>0.0242166</td>\n",
       "      <td>0.312063</td>\n",
       "      <td>CROPseq 10xV2</td>\n",
       "    </tr>\n",
       "    <tr>\n",
       "      <th>OF-40-AT15</th>\n",
       "      <td>0.0242709</td>\n",
       "      <td>0.244496</td>\n",
       "      <td>CROPseq 10xV2</td>\n",
       "    </tr>\n",
       "    <tr>\n",
       "      <th>KF-40-AX15</th>\n",
       "      <td>0.0259689</td>\n",
       "      <td>0.371296</td>\n",
       "      <td>CROPseq 10xV2</td>\n",
       "    </tr>\n",
       "    <tr>\n",
       "      <th>10xPBMC10k</th>\n",
       "      <td>0.00830559</td>\n",
       "      <td>0.235212</td>\n",
       "      <td>CITEseq 10xV2</td>\n",
       "    </tr>\n",
       "  </tbody>\n",
       "</table>\n",
       "</div>"
      ],
      "text/plain": [
       "           mRNA noise ratio fb noise ratio  scRNAseq_tech\n",
       "OE-41-LX17        0.0187747       0.424697  CROPseq 10xV2\n",
       "KE-42-LB17        0.0425434       0.484297  CROPseq 10xV2\n",
       "SF-40-AP15        0.0242166       0.312063  CROPseq 10xV2\n",
       "OF-40-AT15        0.0242709       0.244496  CROPseq 10xV2\n",
       "KF-40-AX15        0.0259689       0.371296  CROPseq 10xV2\n",
       "10xPBMC10k       0.00830559       0.235212  CITEseq 10xV2"
      ]
     },
     "execution_count": 136,
     "metadata": {},
     "output_type": "execute_result"
    }
   ],
   "source": [
    "noise_rate_df"
   ]
  },
  {
   "cell_type": "code",
   "execution_count": 155,
   "id": "30749c79-b5a1-4392-877e-747722623520",
   "metadata": {},
   "outputs": [],
   "source": [
    "noise_rate_df.to_pickle('/da/onc/BFx/research/shengca1/bioinfo_pipeline/intra_cropseq/Second/final/cellranger_count/contamination_rate.pickle')"
   ]
  },
  {
   "cell_type": "code",
   "execution_count": 189,
   "id": "e894407a-c437-481c-8471-ca7384f632b3",
   "metadata": {},
   "outputs": [
    {
     "data": {
      "image/png": "[encoded data removed]",
      "text/plain": [
       "<Figure size 825x450 with 1 Axes>"
      ]
     },
     "metadata": {},
     "output_type": "display_data"
    }
   ],
   "source": [
    "plt.figure(figsize=(5.5,3));\n",
    "ax = sns.scatterplot(data=noise_rate_df.rename_axis('sample'), x='mRNA noise ratio', y='fb noise ratio', hue='scRNAseq_tech');\n",
    "ax.legend(loc='best', bbox_to_anchor=(1.05, .5, 0.5, 0.5), ncol=1, title=None, frameon=False, fontsize=6);\n",
    "ax.set_xlim(0, 0.05);\n",
    "ax.set_ylim(0, 0.5);\n",
    "plt.show();"
   ]
  },
  {
   "cell_type": "code",
   "execution_count": 164,
   "id": "2e404b20-32b5-4418-90c3-9f2615de1c98",
   "metadata": {},
   "outputs": [],
   "source": [
    "PBMCs_1K_filtered = sc.read_10x_mtx('/da/onc/bfx/research/shengca1/public_data/10xgenomics/1k_PBMCs_TotalSeq_B_3p/filtered_feature_bc_matrix/', gex_only=False)\n",
    "PBMCs_1K_raw = sc.read_10x_mtx('/da/onc/bfx/research/shengca1/public_data/10xgenomics/1k_PBMCs_TotalSeq_B_3p/raw_feature_bc_matrix/', gex_only=False)"
   ]
  },
  {
   "cell_type": "code",
   "execution_count": 171,
   "id": "41888b01-79f7-45c6-97bd-254fe3a18f24",
   "metadata": {},
   "outputs": [],
   "source": [
    "def split(adata_obj, nlargest=None):\n",
    "    \n",
    "    mRNA = adata_obj[:, adata_obj.var['feature_types'] == 'Gene Expression']   # only mRNA\n",
    "    fb = adata_obj[:, adata_obj.var['feature_types'] == 'Antibody Capture']   # only sgRNA, Cas9 construct excluded\n",
    "    if nlargest is not None:\n",
    "        sc.pp.calculate_qc_metrics(mRNA, inplace=True)\n",
    "        mRNA = mRNA[mRNA.obs['total_counts'].nlargest(nlargest).index]\n",
    "        fb = fb[fb.to_df().sum(axis=1).nlargest(nlargest).index]\n",
    "        \n",
    "    return mRNA, fb"
   ]
  },
  {
   "cell_type": "code",
   "execution_count": 190,
   "id": "e4e02b2c-ca93-4025-aa0c-52c70baab9e4",
   "metadata": {},
   "outputs": [],
   "source": [
    "def get_noise_ratio(filtered_adata, raw_adata):\n",
    "    barcodes_real_cells = filtered_adata.obs_names\n",
    "    n_cells = barcodes_real_cells.shape[0]\n",
    "    empty_droplets = raw_adata[~raw_adata.obs_names.isin(barcodes_real_cells)]\n",
    "\n",
    "    mRNA_filtered, fb_filtered = split(filtered_adata)\n",
    "    mRNA_emp, fb_emp = split(empty_droplets, nlargest=n_cells)\n",
    "    mRNA_nr = mRNA_emp.X.sum() / mRNA_filtered.X.sum()\n",
    "    fb_nr = fb_emp.X.sum() / fb_filtered.X.sum()\n",
    "    \n",
    "    return mRNA_nr, fb_nr"
   ]
  },
  {
   "cell_type": "code",
   "execution_count": 191,
   "id": "2dbb2595-cd4a-4610-a764-7290f5ca78e0",
   "metadata": {},
   "outputs": [
    {
     "name": "stderr",
     "output_type": "stream",
     "text": [
      "Trying to set attribute `.obs` of view, copying.\n"
     ]
    }
   ],
   "source": [
    "mRNA_nr, fb_nr = get_noise_ratio(PBMCs_1K_filtered, PBMCs_1K_raw)"
   ]
  },
  {
   "cell_type": "code",
   "execution_count": null,
   "id": "18e1fa02-d1b9-4850-9c07-c0210345e663",
   "metadata": {},
   "outputs": [],
   "source": [
    "PBMC_1K_nr = pd.DataFrame([[mRNA_nr, fb_nr, 'CITEseq 10xV3']], index=['10xPBMC1k'], columns=noise_rate_df.columns)"
   ]
  },
  {
   "cell_type": "code",
   "execution_count": 188,
   "id": "5e968f77-26fd-41ad-8fae-987203c6edc0",
   "metadata": {},
   "outputs": [
    {
     "data": {
      "text/html": [
       "<div>\n",
       "<style scoped>\n",
       "    .dataframe tbody tr th:only-of-type {\n",
       "        vertical-align: middle;\n",
       "    }\n",
       "\n",
       "    .dataframe tbody tr th {\n",
       "        vertical-align: top;\n",
       "    }\n",
       "\n",
       "    .dataframe thead th {\n",
       "        text-align: right;\n",
       "    }\n",
       "</style>\n",
       "<table border=\"1\" class=\"dataframe\">\n",
       "  <thead>\n",
       "    <tr style=\"text-align: right;\">\n",
       "      <th></th>\n",
       "      <th>mRNA noise ratio</th>\n",
       "      <th>fb noise ratio</th>\n",
       "      <th>scRNAseq_tech</th>\n",
       "    </tr>\n",
       "  </thead>\n",
       "  <tbody>\n",
       "    <tr>\n",
       "      <th>OE-41-LX17</th>\n",
       "      <td>0.0187747</td>\n",
       "      <td>0.424697</td>\n",
       "      <td>CROPseq 10xV2</td>\n",
       "    </tr>\n",
       "    <tr>\n",
       "      <th>KE-42-LB17</th>\n",
       "      <td>0.0425434</td>\n",
       "      <td>0.484297</td>\n",
       "      <td>CROPseq 10xV2</td>\n",
       "    </tr>\n",
       "    <tr>\n",
       "      <th>SF-40-AP15</th>\n",
       "      <td>0.0242166</td>\n",
       "      <td>0.312063</td>\n",
       "      <td>CROPseq 10xV2</td>\n",
       "    </tr>\n",
       "    <tr>\n",
       "      <th>OF-40-AT15</th>\n",
       "      <td>0.0242709</td>\n",
       "      <td>0.244496</td>\n",
       "      <td>CROPseq 10xV2</td>\n",
       "    </tr>\n",
       "    <tr>\n",
       "      <th>KF-40-AX15</th>\n",
       "      <td>0.0259689</td>\n",
       "      <td>0.371296</td>\n",
       "      <td>CROPseq 10xV2</td>\n",
       "    </tr>\n",
       "    <tr>\n",
       "      <th>10xPBMC10k</th>\n",
       "      <td>0.00830559</td>\n",
       "      <td>0.235212</td>\n",
       "      <td>CITEseq 10xV2</td>\n",
       "    </tr>\n",
       "    <tr>\n",
       "      <th>10xPBMC1k</th>\n",
       "      <td>0.0294656</td>\n",
       "      <td>0.422677</td>\n",
       "      <td>CITEseq 10xV3</td>\n",
       "    </tr>\n",
       "  </tbody>\n",
       "</table>\n",
       "</div>"
      ],
      "text/plain": [
       "           mRNA noise ratio fb noise ratio  scRNAseq_tech\n",
       "OE-41-LX17        0.0187747       0.424697  CROPseq 10xV2\n",
       "KE-42-LB17        0.0425434       0.484297  CROPseq 10xV2\n",
       "SF-40-AP15        0.0242166       0.312063  CROPseq 10xV2\n",
       "OF-40-AT15        0.0242709       0.244496  CROPseq 10xV2\n",
       "KF-40-AX15        0.0259689       0.371296  CROPseq 10xV2\n",
       "10xPBMC10k       0.00830559       0.235212  CITEseq 10xV2\n",
       "10xPBMC1k         0.0294656       0.422677  CITEseq 10xV3"
      ]
     },
     "execution_count": 188,
     "metadata": {},
     "output_type": "execute_result"
    }
   ],
   "source": [
    "noise_rate_df = noise_rate_df.append(PBMC_1K_nr)\n",
    "noise_rate_df.to_pickle('/da/onc/BFx/research/shengca1/bioinfo_pipeline/intra_cropseq/Second/final/cellranger_count/contamination_rate.pickle')\n",
    "noise_rate_df"
   ]
  },
  {
   "cell_type": "code",
   "execution_count": null,
   "id": "b0935ee6-3fdf-4e8a-a9ef-c402dfcac5ac",
   "metadata": {},
   "outputs": [],
   "source": []
  },
  {
   "cell_type": "code",
   "execution_count": 194,
   "id": "f91c8847-0263-4e31-9e9d-fb583a6ed9e8",
   "metadata": {},
   "outputs": [],
   "source": [
    "PBMCs10K_TotalSeq_B_3p_filtered = sc.read_10x_mtx('/da/onc/bfx/research/shengca1/public_data/10xgenomics/10k_PBMCs_TotalSeq_B_3p/filtered_feature_bc_matrix/', gex_only=False)\n",
    "PBMCs10K_TotalSeq_B_3p_raw = sc.read_10x_mtx('/da/onc/bfx/research/shengca1/public_data/10xgenomics/10k_PBMCs_TotalSeq_B_3p/raw_feature_bc_matrix/', gex_only=False)"
   ]
  },
  {
   "cell_type": "code",
   "execution_count": 203,
   "id": "def1304c-e6da-4908-9bd8-f88c17dca667",
   "metadata": {},
   "outputs": [
    {
     "name": "stderr",
     "output_type": "stream",
     "text": [
      "Trying to set attribute `.obs` of view, copying.\n"
     ]
    }
   ],
   "source": [
    "mRNA_nr, fb_nr = get_noise_ratio(PBMCs10K_TotalSeq_B_3p_filtered, PBMCs10K_TotalSeq_B_3p_raw)"
   ]
  },
  {
   "cell_type": "code",
   "execution_count": 204,
   "id": "f85b5068-03e7-49c0-bfbe-1810d725d9f0",
   "metadata": {},
   "outputs": [],
   "source": [
    "PBMC_10K_nr = pd.DataFrame([[mRNA_nr, fb_nr, 'CITEseq 10xV3']], index=['10xPBMC10k_TBNK'], columns=noise_rate_df.columns)"
   ]
  },
  {
   "cell_type": "code",
   "execution_count": 228,
   "id": "421a8b90-1e99-477c-9b9b-709d38c265e7",
   "metadata": {},
   "outputs": [],
   "source": [
    "# noise_rate_df = noise_rate_df.append(PBMC_10K_nr)\n",
    "noise_rate_df.to_pickle('/da/onc/BFx/research/shengca1/bioinfo_pipeline/intra_cropseq/Second/final/cellranger_count/contamination_rate.pickle')\n",
    "# noise_rate_df"
   ]
  },
  {
   "cell_type": "code",
   "execution_count": 222,
   "id": "eb7e7303-b885-4b8f-ad0b-b36e448dd71e",
   "metadata": {},
   "outputs": [],
   "source": [
    "noise_rate_df.rename(index={'OE-41-LX17': 'MCF7 D5R1',\n",
    "                            'KE-42-LB17':'MCF7 D5R2', \n",
    "                            'SF-40-AP15':'MCF7 D12R1', \n",
    "                            'OF-40-AT15':'MCF7 D12R2', \n",
    "                            'KF-40-AX15':'MCF7 D12R3'}, inplace=True)"
   ]
  },
  {
   "cell_type": "code",
   "execution_count": 227,
   "id": "98c47f4f-1d4e-4554-8a08-af856e324f80",
   "metadata": {},
   "outputs": [
    {
     "data": {
      "image/png": "[encoded data removed]",
      "text/plain": [
       "<Figure size 825x450 with 1 Axes>"
      ]
     },
     "metadata": {},
     "output_type": "display_data"
    }
   ],
   "source": [
    "plt.figure(figsize=(5.5,3));\n",
    "ax = sns.scatterplot(data=noise_rate_df.rename_axis('sample'), x='mRNA noise ratio', y='fb noise ratio',  hue='scRNAseq_tech'); #style='scRNAseq_tech',\n",
    "ax.legend(loc='best', bbox_to_anchor=(1.05, .5, 0.5, 0.5), ncol=1, title=None, frameon=False, fontsize=6);\n",
    "ax.set_xlim(0, 0.05);\n",
    "ax.set_ylim(0, 0.7);\n",
    "plt.show();"
   ]
  },
  {
   "cell_type": "code",
   "execution_count": 226,
   "id": "1519eed2-a463-4e5c-9782-fb5966102ffe",
   "metadata": {},
   "outputs": [
    {
     "data": {
      "text/html": [
       "<div>\n",
       "<style scoped>\n",
       "    .dataframe tbody tr th:only-of-type {\n",
       "        vertical-align: middle;\n",
       "    }\n",
       "\n",
       "    .dataframe tbody tr th {\n",
       "        vertical-align: top;\n",
       "    }\n",
       "\n",
       "    .dataframe thead th {\n",
       "        text-align: right;\n",
       "    }\n",
       "</style>\n",
       "<table border=\"1\" class=\"dataframe\">\n",
       "  <thead>\n",
       "    <tr style=\"text-align: right;\">\n",
       "      <th></th>\n",
       "      <th>mRNA noise ratio</th>\n",
       "      <th>fb noise ratio</th>\n",
       "      <th>scRNAseq_tech</th>\n",
       "    </tr>\n",
       "  </thead>\n",
       "  <tbody>\n",
       "    <tr>\n",
       "      <th>MCF7 D5R1</th>\n",
       "      <td>0.0187747</td>\n",
       "      <td>0.424697</td>\n",
       "      <td>CROPseq 10xV2</td>\n",
       "    </tr>\n",
       "    <tr>\n",
       "      <th>MCF7 D5R2</th>\n",
       "      <td>0.0425434</td>\n",
       "      <td>0.484297</td>\n",
       "      <td>CROPseq 10xV2</td>\n",
       "    </tr>\n",
       "    <tr>\n",
       "      <th>MCF7 D12R1</th>\n",
       "      <td>0.0242166</td>\n",
       "      <td>0.312063</td>\n",
       "      <td>CROPseq 10xV2</td>\n",
       "    </tr>\n",
       "    <tr>\n",
       "      <th>MCF7 D12R2</th>\n",
       "      <td>0.0242709</td>\n",
       "      <td>0.244496</td>\n",
       "      <td>CROPseq 10xV2</td>\n",
       "    </tr>\n",
       "    <tr>\n",
       "      <th>MCF7 D12R3</th>\n",
       "      <td>0.0259689</td>\n",
       "      <td>0.371296</td>\n",
       "      <td>CROPseq 10xV2</td>\n",
       "    </tr>\n",
       "    <tr>\n",
       "      <th>10xPBMC10k</th>\n",
       "      <td>0.00830559</td>\n",
       "      <td>0.235212</td>\n",
       "      <td>CITEseq 10xV2</td>\n",
       "    </tr>\n",
       "    <tr>\n",
       "      <th>10xPBMC1k</th>\n",
       "      <td>0.0294656</td>\n",
       "      <td>0.422677</td>\n",
       "      <td>CITEseq 10xV3</td>\n",
       "    </tr>\n",
       "    <tr>\n",
       "      <th>10xPBMC10k_TBNK</th>\n",
       "      <td>0.0164736</td>\n",
       "      <td>0.614636</td>\n",
       "      <td>CITEseq 10xV3</td>\n",
       "    </tr>\n",
       "  </tbody>\n",
       "</table>\n",
       "</div>"
      ],
      "text/plain": [
       "                mRNA noise ratio fb noise ratio  scRNAseq_tech\n",
       "MCF7 D5R1              0.0187747       0.424697  CROPseq 10xV2\n",
       "MCF7 D5R2              0.0425434       0.484297  CROPseq 10xV2\n",
       "MCF7 D12R1             0.0242166       0.312063  CROPseq 10xV2\n",
       "MCF7 D12R2             0.0242709       0.244496  CROPseq 10xV2\n",
       "MCF7 D12R3             0.0259689       0.371296  CROPseq 10xV2\n",
       "10xPBMC10k            0.00830559       0.235212  CITEseq 10xV2\n",
       "10xPBMC1k              0.0294656       0.422677  CITEseq 10xV3\n",
       "10xPBMC10k_TBNK        0.0164736       0.614636  CITEseq 10xV3"
      ]
     },
     "execution_count": 226,
     "metadata": {},
     "output_type": "execute_result"
    }
   ],
   "source": [
    "noise_rate_df"
   ]
  },
  {
   "cell_type": "code",
   "execution_count": 229,
   "id": "432867a9-dc0f-4637-8dde-72f92f3baa30",
   "metadata": {},
   "outputs": [],
   "source": [
    "pbmc_5k_protein_v3_filtered = sc.read_10x_mtx('/da/onc/bfx/research/shengca1/public_data/10xgenomics/5k_pbmc_protein_v3/filtered_feature_bc_matrix/', gex_only=False)\n",
    "pbmc_5k_protein_v3_raw = sc.read_10x_mtx('/da/onc/bfx/research/shengca1/public_data/10xgenomics/5k_pbmc_protein_v3/raw_feature_bc_matrix/', gex_only=False)"
   ]
  },
  {
   "cell_type": "code",
   "execution_count": 230,
   "id": "c1ffdb18-2eb8-45a1-9a7c-33df749c9306",
   "metadata": {},
   "outputs": [
    {
     "name": "stderr",
     "output_type": "stream",
     "text": [
      "Trying to set attribute `.obs` of view, copying.\n"
     ]
    }
   ],
   "source": [
    "mRNA_nr, fb_nr = get_noise_ratio(pbmc_5k_protein_v3_filtered, pbmc_5k_protein_v3_raw)"
   ]
  },
  {
   "cell_type": "code",
   "execution_count": 231,
   "id": "5497332a-e8f9-4ca4-bab0-ea10f747ced0",
   "metadata": {},
   "outputs": [],
   "source": [
    "pbmc_5k_protein_v3_nr = pd.DataFrame([[mRNA_nr, fb_nr, 'CITEseq 10xV3']], index=['10xPBMC1k'], columns=noise_rate_df.columns)"
   ]
  },
  {
   "cell_type": "code",
   "execution_count": 232,
   "id": "46c86c5f-8c48-4494-95e4-4b2a97dd9502",
   "metadata": {},
   "outputs": [
    {
     "data": {
      "text/html": [
       "<div>\n",
       "<style scoped>\n",
       "    .dataframe tbody tr th:only-of-type {\n",
       "        vertical-align: middle;\n",
       "    }\n",
       "\n",
       "    .dataframe tbody tr th {\n",
       "        vertical-align: top;\n",
       "    }\n",
       "\n",
       "    .dataframe thead th {\n",
       "        text-align: right;\n",
       "    }\n",
       "</style>\n",
       "<table border=\"1\" class=\"dataframe\">\n",
       "  <thead>\n",
       "    <tr style=\"text-align: right;\">\n",
       "      <th></th>\n",
       "      <th>mRNA noise ratio</th>\n",
       "      <th>fb noise ratio</th>\n",
       "      <th>scRNAseq_tech</th>\n",
       "    </tr>\n",
       "  </thead>\n",
       "  <tbody>\n",
       "    <tr>\n",
       "      <th>10xPBMC1k</th>\n",
       "      <td>0.016885</td>\n",
       "      <td>0.060728</td>\n",
       "      <td>CITEseq 10xV3</td>\n",
       "    </tr>\n",
       "  </tbody>\n",
       "</table>\n",
       "</div>"
      ],
      "text/plain": [
       "           mRNA noise ratio  fb noise ratio  scRNAseq_tech\n",
       "10xPBMC1k          0.016885        0.060728  CITEseq 10xV3"
      ]
     },
     "execution_count": 232,
     "metadata": {},
     "output_type": "execute_result"
    }
   ],
   "source": [
    "pbmc_5k_protein_v3_nr"
   ]
  },
  {
   "cell_type": "code",
   "execution_count": 233,
   "id": "fed4dd1f-a84a-4097-8d9f-c9d1c16bcdda",
   "metadata": {},
   "outputs": [
    {
     "data": {
      "text/html": [
       "<div>\n",
       "<style scoped>\n",
       "    .dataframe tbody tr th:only-of-type {\n",
       "        vertical-align: middle;\n",
       "    }\n",
       "\n",
       "    .dataframe tbody tr th {\n",
       "        vertical-align: top;\n",
       "    }\n",
       "\n",
       "    .dataframe thead th {\n",
       "        text-align: right;\n",
       "    }\n",
       "</style>\n",
       "<table border=\"1\" class=\"dataframe\">\n",
       "  <thead>\n",
       "    <tr style=\"text-align: right;\">\n",
       "      <th></th>\n",
       "      <th>mRNA noise ratio</th>\n",
       "      <th>fb noise ratio</th>\n",
       "      <th>scRNAseq_tech</th>\n",
       "    </tr>\n",
       "  </thead>\n",
       "  <tbody>\n",
       "    <tr>\n",
       "      <th>MCF7 D5R1</th>\n",
       "      <td>0.0187747</td>\n",
       "      <td>0.424697</td>\n",
       "      <td>CROPseq 10xV2</td>\n",
       "    </tr>\n",
       "    <tr>\n",
       "      <th>MCF7 D5R2</th>\n",
       "      <td>0.0425434</td>\n",
       "      <td>0.484297</td>\n",
       "      <td>CROPseq 10xV2</td>\n",
       "    </tr>\n",
       "    <tr>\n",
       "      <th>MCF7 D12R1</th>\n",
       "      <td>0.0242166</td>\n",
       "      <td>0.312063</td>\n",
       "      <td>CROPseq 10xV2</td>\n",
       "    </tr>\n",
       "    <tr>\n",
       "      <th>MCF7 D12R2</th>\n",
       "      <td>0.0242709</td>\n",
       "      <td>0.244496</td>\n",
       "      <td>CROPseq 10xV2</td>\n",
       "    </tr>\n",
       "    <tr>\n",
       "      <th>MCF7 D12R3</th>\n",
       "      <td>0.0259689</td>\n",
       "      <td>0.371296</td>\n",
       "      <td>CROPseq 10xV2</td>\n",
       "    </tr>\n",
       "    <tr>\n",
       "      <th>10xPBMC10k</th>\n",
       "      <td>0.00830559</td>\n",
       "      <td>0.235212</td>\n",
       "      <td>CITEseq 10xV2</td>\n",
       "    </tr>\n",
       "    <tr>\n",
       "      <th>10xPBMC1k</th>\n",
       "      <td>0.0294656</td>\n",
       "      <td>0.422677</td>\n",
       "      <td>CITEseq 10xV3</td>\n",
       "    </tr>\n",
       "    <tr>\n",
       "      <th>10xPBMC10k_TBNK</th>\n",
       "      <td>0.0164736</td>\n",
       "      <td>0.614636</td>\n",
       "      <td>CITEseq 10xV3</td>\n",
       "    </tr>\n",
       "    <tr>\n",
       "      <th>10xPBMC1k</th>\n",
       "      <td>0.016885</td>\n",
       "      <td>0.0607283</td>\n",
       "      <td>CITEseq 10xV3</td>\n",
       "    </tr>\n",
       "  </tbody>\n",
       "</table>\n",
       "</div>"
      ],
      "text/plain": [
       "                mRNA noise ratio fb noise ratio  scRNAseq_tech\n",
       "MCF7 D5R1              0.0187747       0.424697  CROPseq 10xV2\n",
       "MCF7 D5R2              0.0425434       0.484297  CROPseq 10xV2\n",
       "MCF7 D12R1             0.0242166       0.312063  CROPseq 10xV2\n",
       "MCF7 D12R2             0.0242709       0.244496  CROPseq 10xV2\n",
       "MCF7 D12R3             0.0259689       0.371296  CROPseq 10xV2\n",
       "10xPBMC10k            0.00830559       0.235212  CITEseq 10xV2\n",
       "10xPBMC1k              0.0294656       0.422677  CITEseq 10xV3\n",
       "10xPBMC10k_TBNK        0.0164736       0.614636  CITEseq 10xV3\n",
       "10xPBMC1k               0.016885      0.0607283  CITEseq 10xV3"
      ]
     },
     "execution_count": 233,
     "metadata": {},
     "output_type": "execute_result"
    }
   ],
   "source": [
    "noise_rate_df.append(pbmc_5k_protein_v3_nr)"
   ]
  },
  {
   "cell_type": "code",
   "execution_count": null,
   "id": "43a7a3a9-5697-4f94-a96f-321534aa06fa",
   "metadata": {},
   "outputs": [],
   "source": [
    "noise_rate_df = noise_rate_df.append(pbmc_5k_protein_v3_nr)\n",
    "noise_rate_df.to_pickle('/da/onc/BFx/research/shengca1/bioinfo_pipeline/intra_cropseq/Second/final/cellranger_count/contamination_rate.pickle')\n",
    "# noise_rate_df"
   ]
  },
  {
   "cell_type": "code",
   "execution_count": 236,
   "id": "ff84f958-2a86-4ce3-a5fd-048620a2d4f5",
   "metadata": {},
   "outputs": [],
   "source": [
    "malt_10k_protein_v3_filtered = sc.read_10x_mtx('/da/onc/bfx/research/shengca1/public_data/10xgenomics/malt_10k_protein_v3/filtered_feature_bc_matrix/', gex_only=False)\n",
    "malt_10k_protein_v3_raw = sc.read_10x_mtx('/da/onc/bfx/research/shengca1/public_data/10xgenomics/malt_10k_protein_v3/raw_feature_bc_matrix/', gex_only=False)"
   ]
  },
  {
   "cell_type": "code",
   "execution_count": 237,
   "id": "1f850c5e-489e-4de3-9042-71ec8a055761",
   "metadata": {},
   "outputs": [
    {
     "name": "stderr",
     "output_type": "stream",
     "text": [
      "Trying to set attribute `.obs` of view, copying.\n"
     ]
    }
   ],
   "source": [
    "mRNA_nr, fb_nr = get_noise_ratio(malt_10k_protein_v3_filtered, malt_10k_protein_v3_raw)\n",
    "malt_10k_protein_v3_nr = pd.DataFrame([[mRNA_nr, fb_nr, 'CITEseq 10xV3']], index=['10xMALT10K'], columns=noise_rate_df.columns)"
   ]
  },
  {
   "cell_type": "code",
   "execution_count": 238,
   "id": "9c6ea51d-bf2f-4553-9e0e-7d6c0dcfd737",
   "metadata": {},
   "outputs": [
    {
     "data": {
      "text/html": [
       "<div>\n",
       "<style scoped>\n",
       "    .dataframe tbody tr th:only-of-type {\n",
       "        vertical-align: middle;\n",
       "    }\n",
       "\n",
       "    .dataframe tbody tr th {\n",
       "        vertical-align: top;\n",
       "    }\n",
       "\n",
       "    .dataframe thead th {\n",
       "        text-align: right;\n",
       "    }\n",
       "</style>\n",
       "<table border=\"1\" class=\"dataframe\">\n",
       "  <thead>\n",
       "    <tr style=\"text-align: right;\">\n",
       "      <th></th>\n",
       "      <th>mRNA noise ratio</th>\n",
       "      <th>fb noise ratio</th>\n",
       "      <th>scRNAseq_tech</th>\n",
       "    </tr>\n",
       "  </thead>\n",
       "  <tbody>\n",
       "    <tr>\n",
       "      <th>MCF7 D5R1</th>\n",
       "      <td>0.0187747</td>\n",
       "      <td>0.424697</td>\n",
       "      <td>CROPseq 10xV2</td>\n",
       "    </tr>\n",
       "    <tr>\n",
       "      <th>MCF7 D5R2</th>\n",
       "      <td>0.0425434</td>\n",
       "      <td>0.484297</td>\n",
       "      <td>CROPseq 10xV2</td>\n",
       "    </tr>\n",
       "    <tr>\n",
       "      <th>MCF7 D12R1</th>\n",
       "      <td>0.0242166</td>\n",
       "      <td>0.312063</td>\n",
       "      <td>CROPseq 10xV2</td>\n",
       "    </tr>\n",
       "    <tr>\n",
       "      <th>MCF7 D12R2</th>\n",
       "      <td>0.0242709</td>\n",
       "      <td>0.244496</td>\n",
       "      <td>CROPseq 10xV2</td>\n",
       "    </tr>\n",
       "    <tr>\n",
       "      <th>MCF7 D12R3</th>\n",
       "      <td>0.0259689</td>\n",
       "      <td>0.371296</td>\n",
       "      <td>CROPseq 10xV2</td>\n",
       "    </tr>\n",
       "    <tr>\n",
       "      <th>10xPBMC10k</th>\n",
       "      <td>0.00830559</td>\n",
       "      <td>0.235212</td>\n",
       "      <td>CITEseq 10xV2</td>\n",
       "    </tr>\n",
       "    <tr>\n",
       "      <th>10xPBMC1k</th>\n",
       "      <td>0.0294656</td>\n",
       "      <td>0.422677</td>\n",
       "      <td>CITEseq 10xV3</td>\n",
       "    </tr>\n",
       "    <tr>\n",
       "      <th>10xPBMC10k_TBNK</th>\n",
       "      <td>0.0164736</td>\n",
       "      <td>0.614636</td>\n",
       "      <td>CITEseq 10xV3</td>\n",
       "    </tr>\n",
       "    <tr>\n",
       "      <th>10xMALT10K</th>\n",
       "      <td>0.0501713</td>\n",
       "      <td>0.171998</td>\n",
       "      <td>CITEseq 10xV3</td>\n",
       "    </tr>\n",
       "  </tbody>\n",
       "</table>\n",
       "</div>"
      ],
      "text/plain": [
       "                mRNA noise ratio fb noise ratio  scRNAseq_tech\n",
       "MCF7 D5R1              0.0187747       0.424697  CROPseq 10xV2\n",
       "MCF7 D5R2              0.0425434       0.484297  CROPseq 10xV2\n",
       "MCF7 D12R1             0.0242166       0.312063  CROPseq 10xV2\n",
       "MCF7 D12R2             0.0242709       0.244496  CROPseq 10xV2\n",
       "MCF7 D12R3             0.0259689       0.371296  CROPseq 10xV2\n",
       "10xPBMC10k            0.00830559       0.235212  CITEseq 10xV2\n",
       "10xPBMC1k              0.0294656       0.422677  CITEseq 10xV3\n",
       "10xPBMC10k_TBNK        0.0164736       0.614636  CITEseq 10xV3\n",
       "10xMALT10K             0.0501713       0.171998  CITEseq 10xV3"
      ]
     },
     "execution_count": 238,
     "metadata": {},
     "output_type": "execute_result"
    }
   ],
   "source": [
    "noise_rate_df.append(malt_10k_protein_v3_nr)"
   ]
  },
  {
   "cell_type": "code",
   "execution_count": 239,
   "id": "a8c7f2e4-065e-420e-819a-14c234a502fc",
   "metadata": {},
   "outputs": [],
   "source": [
    "noise_rate_df = noise_rate_df.append(malt_10k_protein_v3_nr)\n",
    "noise_rate_df.to_pickle('/da/onc/BFx/research/shengca1/bioinfo_pipeline/intra_cropseq/Second/final/cellranger_count/contamination_rate.pickle')\n",
    "# noise_rate_df"
   ]
  },
  {
   "cell_type": "code",
   "execution_count": 242,
   "id": "939026ad-c7ae-473f-bfe1-0039e73b49bc",
   "metadata": {},
   "outputs": [
    {
     "data": {
      "image/png": "[encoded data removed]",
      "text/plain": [
       "<Figure size 825x450 with 1 Axes>"
      ]
     },
     "metadata": {},
     "output_type": "display_data"
    }
   ],
   "source": [
    "plt.figure(figsize=(5.5,3));\n",
    "ax = sns.scatterplot(data=noise_rate_df.rename_axis('sample'), x='mRNA noise ratio', y='fb noise ratio',  hue='scRNAseq_tech'); #style='scRNAseq_tech',\n",
    "ax.legend(loc='best', bbox_to_anchor=(1.05, .5, 0.5, 0.5), ncol=1, title=None, frameon=False, fontsize=6);\n",
    "ax.set_xlim(0, 0.06);\n",
    "ax.set_ylim(0, 0.7);\n",
    "plt.show();"
   ]
  },
  {
   "cell_type": "code",
   "execution_count": null,
   "id": "6e6415b3-36ac-4811-8149-91a67310eff1",
   "metadata": {},
   "outputs": [],
   "source": []
  }
 ],
 "metadata": {
  "kernelspec": {
   "display_name": "cropseq",
   "language": "python",
   "name": "cropseq"
  },
  "language_info": {
   "codemirror_mode": {
    "name": "ipython",
    "version": 3
   },
   "file_extension": ".py",
   "mimetype": "text/x-python",
   "name": "python",
   "nbconvert_exporter": "python",
   "pygments_lexer": "ipython3",
   "version": "3.8.6"
  },
  "toc-autonumbering": false
 },
 "nbformat": 4,
 "nbformat_minor": 5
}
